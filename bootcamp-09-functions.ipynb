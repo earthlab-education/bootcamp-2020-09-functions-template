{
 "cells": [
  {
   "cell_type": "markdown",
   "metadata": {},
   "source": [
    "<img style=\"float: left;\" src=\"earth-lab-logo-rgb.png\" width=\"150\" height=\"150\" />\n",
    "\n",
    "# Earth Analytics Education - Bootcamp Course Fall 2020"
   ]
  },
  {
   "cell_type": "markdown",
   "metadata": {},
   "source": [
    "## Important  - Assignment Guidelines\n",
    "\n",
    "1. Before you turn in your assignment, make sure to run the entire notebook with a fresh kernel. To do this first, **restart the kernel** (in the menubar, select Kernel$\\rightarrow$Restart & Run All)\n",
    "2. In the cells below you will replace the `raise NotImplementedError()` code with your code that addresses the activity challenge. If you don't replace that code, your notebook will not run properly.\n",
    "\n",
    "```\n",
    "# YOUR CODE HERE\n",
    "raise NotImplementedError()\n",
    "```\n",
    "\n",
    "3. Any open ended questions will have a \"YOUR ANSWER HERE\" within a markdown cell. Replace that text with your answer also formatted using Markdown.\n",
    "4. **IMPORTANT: DO NOT RENAME THIS NOTEBOOK!** If the file name changes, the autograder will not grade your assignment properly.\n",
    "5. **Do not rename the notebook file.** If you do, the autograder will not recognize your submisson.\n",
    "6. When you plot, please comment out `plt.show()` as the code below will effectively run `plt.show()` for you and also will grab your plot for autograding. DO NOT DELETE any code that says `DO NOT REMOVE LINE BELOW`. That code is for autograding!!\n",
    "\n",
    "```\n",
    "### DO NOT REMOVE LINE BELOW ###\n",
    "student_plot1_ax = nb.convert_axes(plt)\n",
    "```\n",
    "\n",
    "\n",
    "\n",
    "## Follow to PEP 8 Syntax Guidelines\n",
    "\n",
    "* Run the `autopep8` tool on all cells prior to submitting (HINT: hit shift + the tool to run it on all cells at once!\n",
    "* Use clear and expressive names for variables. \n",
    "* Organize your code to support readability.\n",
    "* Check for code line length\n",
    "* Use comments and white space sparingly where it is needed\n"
   ]
  },
  {
   "cell_type": "markdown",
   "metadata": {},
   "source": [
    "### Add Your Name Below \n",
    "**Your Name:**"
   ]
  },
  {
   "cell_type": "markdown",
   "metadata": {},
   "source": [
    "<img style=\"float: left;\" src=\"colored-bar.png\"/>"
   ]
  },
  {
   "cell_type": "markdown",
   "metadata": {},
   "source": [
    "---"
   ]
  },
  {
   "cell_type": "markdown",
   "metadata": {
    "deletable": false,
    "editable": false,
    "hideCode": false,
    "hidePrompt": false,
    "nbgrader": {
     "cell_type": "markdown",
     "checksum": "50217e8c9d539c2b82f9fa0b95da5990",
     "grade": false,
     "grade_id": "hw-instructions",
     "locked": true,
     "schema_version": 3,
     "solution": false
    }
   },
   "source": [
    "# Week 9 Homework Template - Modular Code and Functions\n",
    "\n",
    "To complete assignment 9, be sure to <a href=\"https://www.earthdatascience.org/courses/intro-to-earth-data-science/write-efficient-python-code/functions-modular-code/\" target=\"_blank\">review  the chapter on functions in the Intro to Earth Data Science online textbook</a> online textbook.\n",
    "\n",
    "## Assignment Data\n",
    "\n",
    "For this assignment, you will write **Python** pseudo code, and later **Python** functions, to download and work with multiple datasets. The primary dataset you will use can be downloadoed using **this url: https://ndownloader.figshare.com/files/25033508**: \n",
    "\n",
    "In this download, you'll see three directories with files containing data by year:\n",
    "\n",
    "* ca-fires-yearly/monthly-fire-count\n",
    "    * The dataset contains the total number of fires (greater than 100 acres) that occurred in each month and year in California between 1992 and 2015. The data are organized with a file for each year from 1992 to 2015.\n",
    "* ca-fires-yearly/monthly-mean-size\n",
    "    * The dataset contains the mean fire size (acres) of all fires greater than 100 acres for each month and year in California between 1992 and 2015. The data are organized with a file for each year from 1992 to 2015\n",
    "* ca-fires-yearly/1992-2015-gt-100-acres\n",
    "    * The dataset contains the cause of all fires greater than 100 acres in California between 1992 and 2015. The data are organized with a file for each year from 1992 to 2015\n",
    "\n",
    "Other data used includes average monthly maximum temperatures (Fahrenheit) for the Sonoma County Airport and San Diego area in California between 1999 and 2018 provided by <a href=\"https://w2.weather.gov/climate/xmacis.php?wfo=mtr\" target=\"_blank\">the National Weather Service</a>."
   ]
  },
  {
   "cell_type": "code",
   "execution_count": null,
   "metadata": {
    "deletable": false,
    "editable": false,
    "hideCode": false,
    "hidePrompt": false,
    "nbgrader": {
     "cell_type": "code",
     "checksum": "74c8dbeaea7abc6838590b7d14406e79",
     "grade": false,
     "grade_id": "core-imports",
     "locked": true,
     "schema_version": 3,
     "solution": false
    }
   },
   "outputs": [],
   "source": [
    "# Core imports needed for grading - Do not modify this cell!\n",
    "import matplotcheck.notebook as nb\n",
    "from matplotcheck.base import PlotTester"
   ]
  },
  {
   "cell_type": "markdown",
   "metadata": {
    "deletable": false,
    "editable": false,
    "hideCode": false,
    "hidePrompt": false,
    "nbgrader": {
     "cell_type": "markdown",
     "checksum": "97eb84f7d3b6c57ac312bc329a3bd9f6",
     "grade": false,
     "grade_id": "psuedo-coding-instructions",
     "locked": true,
     "schema_version": 3,
     "solution": false,
     "task": false
    }
   },
   "source": [
    "## Practice Pseudo-coding\n",
    "\n",
    "In the Markdown cell below, answer the following questions using any kind of Markdown list.\n",
    "\n",
    "For this assignment, you will need to:\n",
    "\n",
    "1. open up a group of `.csv` files in a directory, \n",
    "2. extract the year from the `.csv` file name and add it to a new column in the `DataFrame`\n",
    "3. store each DataFrame into a list object using `obj-name.append()`\n",
    "4. create a single pandas `DataFrame` containing all of the data in all .csv files.\n",
    "5. plot the data in that `DataFrame`. \n",
    "\n",
    "Write  pseudo code that outlines the steps needed to complete the task above. \n",
    "Do not use actual code to complete this task. Rather, write down each step using a \n",
    "markdown list and using plain english words. \n",
    "\n",
    "As you are writing your pseudocode, consider how you could make each part of the workflow\n",
    "generic enough to accept any set of `.csv` files that could be opened using Pandas."
   ]
  },
  {
   "cell_type": "markdown",
   "metadata": {
    "deletable": false,
    "hideCode": false,
    "hidePrompt": false,
    "nbgrader": {
     "cell_type": "markdown",
     "checksum": "0c33c37c6914aefd816f1523bbb71ea4",
     "grade": true,
     "grade_id": "cell-d7456c30def5b3b3",
     "locked": false,
     "points": 15,
     "schema_version": 3,
     "solution": true,
     "task": false
    }
   },
   "source": [
    "YOUR ANSWER HERE"
   ]
  },
  {
   "cell_type": "markdown",
   "metadata": {},
   "source": [
    "<img style=\"float: left;\" src=\"colored-bar.png\"/>"
   ]
  },
  {
   "cell_type": "markdown",
   "metadata": {
    "deletable": false,
    "editable": false,
    "hideCode": false,
    "hidePrompt": false,
    "nbgrader": {
     "cell_type": "markdown",
     "checksum": "be0a3c323788eed4def38768def8f4cb",
     "grade": false,
     "grade_id": "question-student-imports",
     "locked": true,
     "schema_version": 3,
     "solution": false
    }
   },
   "source": [
    "## Import Python Packages\n",
    "\n",
    "In the cell below, add code **after the line for `Your Code Here`**, replacing `raise NotImplementedError()` with your code to import the package/module needed to:\n",
    "* create plots\n",
    "* set your working directory\n",
    "* download data using earthpy functions\n",
    "* work with numpy arrays\n",
    "\n",
    "Be sure to list the package imports following the appropriate PEP 8 order and \n",
    "spacing requirements. "
   ]
  },
  {
   "cell_type": "code",
   "execution_count": null,
   "metadata": {
    "deletable": false,
    "hideCode": false,
    "hidePrompt": false,
    "nbgrader": {
     "cell_type": "code",
     "checksum": "20489880accefdb27a2f10ca8cc97835",
     "grade": false,
     "grade_id": "student-imports-answer",
     "locked": false,
     "schema_version": 3,
     "solution": true,
     "task": false
    }
   },
   "outputs": [],
   "source": [
    "# YOUR CODE HERE\n",
    "raise NotImplementedError()"
   ]
  },
  {
   "cell_type": "code",
   "execution_count": null,
   "metadata": {
    "deletable": false,
    "editable": false,
    "hideCode": false,
    "hidePrompt": false,
    "nbgrader": {
     "cell_type": "code",
     "checksum": "c9b7bfabf20ebd57b80bc289ec6cdf9b",
     "grade": true,
     "grade_id": "student-imports-tests",
     "locked": true,
     "points": 5,
     "schema_version": 3,
     "solution": false,
     "task": false
    }
   },
   "outputs": [],
   "source": [
    "# Test package imports - DO NOT MODIFY THIS CELL!\n",
    "import_answer_points = 0\n",
    "\n",
    "try:\n",
    "    pd.NA\n",
    "    print(\"\\u2705 Score! Pandas has been imported as a pd!\")\n",
    "    import_answer_points += 1\n",
    "except NameError:\n",
    "    print(\"\\u274C Pandas has not been imported as a pd, please make sure to import is properly.\")\n",
    "\n",
    "try:\n",
    "    glob('~')\n",
    "    print(\"\\u2705 Cool! Glob was imported from glob!\")\n",
    "    import_answer_points += 1\n",
    "except NameError:\n",
    "    print(\"\\u274C Glob has not been imported from glob, please make sure to import this properly.\")\n",
    "\n",
    "try:\n",
    "    plt.show()\n",
    "    print(\"\\u2705 Nice! matplotlib.pyplot has been imported as plt!\")\n",
    "    import_answer_points += 1\n",
    "except NameError:\n",
    "    print(\"matplotlib.pyplot has not been imported as plt, please make sure to import this properly.\")\n",
    "\n",
    "try:\n",
    "    os.getcwd()\n",
    "    print(\"\\u2705 Great work! The os module has imported correctly!\")\n",
    "    import_answer_points += 1\n",
    "except NameError:\n",
    "    print(\"\\u274C Oops make sure that the os package is imported.\")\n",
    "\n",
    "try:\n",
    "    data = et.io\n",
    "    print(\"\\u2705 Score! The earthpy package has imported correctly!\")\n",
    "    import_answer_points += 1\n",
    "except NameError:\n",
    "    print(\"\\u274C Oops make sure that the earthpy package is imported using the alias et.\")\n",
    "\n",
    "print(\"\\n \\u27A1 You received {} out of 5 points.\".format(import_answer_points))\n",
    "\n",
    "import_answer_points"
   ]
  },
  {
   "cell_type": "markdown",
   "metadata": {
    "deletable": false,
    "editable": false,
    "hideCode": false,
    "hidePrompt": false,
    "nbgrader": {
     "cell_type": "markdown",
     "checksum": "4fc8c0ebd037943797e8e267a8f1b5a4",
     "grade": false,
     "grade_id": "set-working-directory-instructions",
     "locked": true,
     "schema_version": 3,
     "solution": false,
     "task": false
    }
   },
   "source": [
    "## Set Working Directory\n",
    "\n",
    "In the cell below complete the following task:\n",
    "\n",
    "* **Use a conditional statement** to:\n",
    "    * Set the working directory to the **`earth-analytics/data` directory in your home directory** if the path exists.\n",
    "    * Print a helpful message if the path does not exist. \n",
    "* **Use reusable variable(s) to reduce repetition in your code.**\n",
    "* Use the `os` package to ensure that the paths you create will run successfully on any operating system."
   ]
  },
  {
   "cell_type": "code",
   "execution_count": null,
   "metadata": {
    "deletable": false,
    "hideCode": false,
    "hidePrompt": false,
    "nbgrader": {
     "cell_type": "code",
     "checksum": "0185c6911ff9a3888bb167fe317d58c7",
     "grade": false,
     "grade_id": "set-working-directory",
     "locked": false,
     "schema_version": 3,
     "solution": true,
     "task": false
    }
   },
   "outputs": [],
   "source": [
    "# YOUR CODE HERE\n",
    "raise NotImplementedError()"
   ]
  },
  {
   "cell_type": "markdown",
   "metadata": {
    "deletable": false,
    "editable": false,
    "hideCode": false,
    "hidePrompt": false,
    "nbgrader": {
     "cell_type": "markdown",
     "checksum": "69280a39be8977e8aca3fe7e576c9b13",
     "grade": false,
     "grade_id": "question-download-data",
     "locked": true,
     "schema_version": 3,
     "solution": false,
     "task": false
    }
   },
   "source": [
    "## Download Data Using EarthPy\n",
    "\n",
    "In the cell below use **EarthPy** to download **this url: https://ndownloader.figshare.com/files/25033508**: "
   ]
  },
  {
   "cell_type": "code",
   "execution_count": null,
   "metadata": {
    "deletable": false,
    "hideCode": false,
    "hidePrompt": false,
    "nbgrader": {
     "cell_type": "code",
     "checksum": "4151eccfb8b21b46dc2c2cf0a8c9217e",
     "grade": false,
     "grade_id": "student-download-data",
     "locked": false,
     "schema_version": 3,
     "solution": true,
     "task": false
    }
   },
   "outputs": [],
   "source": [
    "# YOUR CODE HERE\n",
    "raise NotImplementedError()"
   ]
  },
  {
   "cell_type": "code",
   "execution_count": null,
   "metadata": {
    "deletable": false,
    "editable": false,
    "hideCode": false,
    "hidePrompt": false,
    "nbgrader": {
     "cell_type": "code",
     "checksum": "7f80f78039f60003adff2d0c3c2c7592",
     "grade": true,
     "grade_id": "student-download-tests",
     "locked": true,
     "points": 5,
     "schema_version": 3,
     "solution": false,
     "task": false
    }
   },
   "outputs": [],
   "source": [
    "# DO NOT MODIFY THIS CELL\n",
    "# Tests that the working directory is set to earth-analytics/data\n",
    "\n",
    "path = os.path.normpath(os.getcwd())\n",
    "student_wd_parts = path.split(os.sep)\n",
    "\n",
    "wd_points = 0\n",
    "\n",
    "if student_wd_parts[-2:] == ['earth-analytics', 'data']:\n",
    "    print(\"\\u2705 Great - it looks like your working directory is set correctly to ~/earth-analytics/data\")\n",
    "    wd_points += 5\n",
    "else:\n",
    "    print(\"\\u274C Oops, the autograder will not run unless your working directory is set to earth-analytics/data\")\n",
    "\n",
    "print(\"\\n \\u27A1 You received {} out of 5 points for setting your working directory.\".format(\n",
    "    wd_points))\n",
    "wd_points"
   ]
  },
  {
   "cell_type": "markdown",
   "metadata": {},
   "source": [
    "<img style=\"float: left;\" src=\"colored-bar.png\"/>"
   ]
  },
  {
   "cell_type": "markdown",
   "metadata": {
    "deletable": false,
    "editable": false,
    "hideCode": false,
    "hidePrompt": false,
    "nbgrader": {
     "cell_type": "markdown",
     "checksum": "cf676367600fbaa730a4f455b2ab317b",
     "grade": false,
     "grade_id": "define-function-instructions",
     "locked": true,
     "schema_version": 3,
     "solution": false,
     "task": false
    }
   },
   "source": [
    "## Function Challenge 1: Define Function to Import Data into Pandas\n",
    "\n",
    "In the cell below create a function that opens and converts a single csv file into a \n",
    "Pandas DataFrame with a Year column. The function should have the following properties.\n",
    "\n",
    "1. Parameters:\n",
    "    * The function takes in a file path pointing to a single `.csv` file. \n",
    "    * The function also takes in a tuple of the index positions you expect the year data to be within the file path string. For example, in the path `folder/1996_data.csv` the tuple could either be (7, 11) or (-13, -9). \n",
    "2. Returns:\n",
    "    * The function should return a **Pandas** DataFrame with the data from the `.csv` file, indexed on the year extracted from the file path.\n",
    "\n",
    "Be sure to include a docstring with a brief description of the function (i.e. how it works, purpose) as well as identify the input parameters (i.e. type, description) and the returned output (i.e. type, description). Below is an example of how to format your docstring. \n",
    "\n",
    "```\n",
    "def function(parameter1):\n",
    "    \"\"\"Description of function and\n",
    "    what it does.\n",
    "    \n",
    "    Parameters\n",
    "    ----------\n",
    "    parameter1 : data_type_of_parameter1\n",
    "        Description of parameter1\n",
    "    \n",
    "    Returns\n",
    "    -------\n",
    "    returned_data : data_type_of_returned_data\n",
    "        Description of returned_data\n",
    "    \"\"\"\n",
    "```"
   ]
  },
  {
   "cell_type": "code",
   "execution_count": null,
   "metadata": {
    "deletable": false,
    "hideCode": false,
    "hidePrompt": false,
    "nbgrader": {
     "cell_type": "code",
     "checksum": "d353e8a7562df3b31e0e2033c3cdbdf9",
     "grade": false,
     "grade_id": "cell-b400c361a33fa541",
     "locked": false,
     "schema_version": 3,
     "solution": true,
     "task": false
    }
   },
   "outputs": [],
   "source": [
    "def import_csv(file_path, year_index):\n",
    "    # YOUR CODE HERE\n",
    "    raise NotImplementedError()"
   ]
  },
  {
   "cell_type": "code",
   "execution_count": null,
   "metadata": {
    "deletable": false,
    "editable": false,
    "hideCode": false,
    "hidePrompt": false,
    "nbgrader": {
     "cell_type": "code",
     "checksum": "f4e6aa1e7099506308f61459bf143203",
     "grade": true,
     "grade_id": "cell-a2f25f24bc89fb72",
     "locked": true,
     "points": 0,
     "schema_version": 3,
     "solution": false,
     "task": false
    }
   },
   "outputs": [],
   "source": [
    "# DO NOT MODIFY THIS CELL\n",
    "import_works = False\n",
    "\n",
    "# Create path to a single file as a test\n",
    "single_file = os.path.join(\"earthpy-downloads\",\n",
    "                           \"ca-fires-yearly\",\n",
    "                           \"1992-2015-gt-100-acres\",\n",
    "                           \"gt-100-acres-1993.csv\")\n",
    "\n",
    "try:\n",
    "    output_df = import_csv(single_file, year_index=(-8, -4))\n",
    "    # If the above is a dataframe, the line below should run\n",
    "    output_df.columns\n",
    "    print(\"\\u2705 Great! Your 'import_csv' function returns a DataFrame! I didn't test that the dataframe also has a year column in it so please make sure it does have a year column to get full credit for this challenge when the autograder runs!\")\n",
    "    import_works = True\n",
    "except NameError:\n",
    "    print(\"\\u274C Oops! Your import_csv function should return a dataframe. \")"
   ]
  },
  {
   "cell_type": "code",
   "execution_count": null,
   "metadata": {
    "deletable": false,
    "editable": false,
    "nbgrader": {
     "cell_type": "code",
     "checksum": "21ef4964842bc05ed3153ae0b8b1c79a",
     "grade": true,
     "grade_id": "cell-19c2649b7c29d9b4",
     "locked": true,
     "points": 10,
     "schema_version": 3,
     "solution": false,
     "task": false
    }
   },
   "outputs": [],
   "source": [
    "# DO NOT MODIFY THIS CELL"
   ]
  },
  {
   "cell_type": "markdown",
   "metadata": {
    "deletable": false,
    "editable": false,
    "hideCode": false,
    "hidePrompt": false,
    "nbgrader": {
     "cell_type": "markdown",
     "checksum": "4deb23b5535145a1d237011502498853",
     "grade": false,
     "grade_id": "csv-function-help",
     "locked": true,
     "schema_version": 3,
     "solution": false,
     "task": false
    }
   },
   "source": [
    "## Call Help on Your Custom Function\n",
    "\n",
    "In the cell below, call help on your custom function to see what it returns. If you properly formatted the docstring, you should expect to see a very useful print out of the descriptive text you added in the docstring!"
   ]
  },
  {
   "cell_type": "code",
   "execution_count": null,
   "metadata": {
    "deletable": false,
    "hideCode": false,
    "hidePrompt": false,
    "nbgrader": {
     "cell_type": "code",
     "checksum": "fab743af3ec0091f74cebc25c3a33867",
     "grade": true,
     "grade_id": "student-import-csv-function-help",
     "locked": false,
     "points": 5,
     "schema_version": 3,
     "solution": true,
     "task": false
    }
   },
   "outputs": [],
   "source": [
    "# YOUR CODE HERE\n",
    "raise NotImplementedError()"
   ]
  },
  {
   "cell_type": "markdown",
   "metadata": {
    "deletable": false,
    "editable": false,
    "hideCode": false,
    "hidePrompt": false,
    "nbgrader": {
     "cell_type": "markdown",
     "checksum": "b9ae07d77c13ee1023a614991899fc10",
     "grade": false,
     "grade_id": "csv-function-in-workflow-instructions",
     "locked": true,
     "schema_version": 3,
     "solution": false,
     "task": false
    }
   },
   "source": [
    "## Function Challenge 1: Use Your Function in a Workflow\n",
    "\n",
    "Use a `for` loop to open and add the data in the directory:\n",
    "\n",
    "`earthpy-downloads/ca-fires-yearly/monthly-fire-count`\n",
    "\n",
    "to a new DataFrame following the same steps that you completed last week, but implementing your function.\n",
    "\n",
    "1. loop through each `.csv` file sorted by name.\n",
    "2. put the `.csv` file into your function and add the return from your function to a list. \n",
    "3. Outside of the for loop, combine all of the files into a single DataFrame and set the year column to be an index. \n",
    "\n",
    "Call the new DataFrame object at the end of the cell."
   ]
  },
  {
   "cell_type": "code",
   "execution_count": null,
   "metadata": {
    "deletable": false,
    "hideCode": false,
    "hidePrompt": false,
    "nbgrader": {
     "cell_type": "code",
     "checksum": "6fdcd8c7a45737ff7c3e03347c8d588f",
     "grade": false,
     "grade_id": "import-csv-function-workflow",
     "locked": false,
     "schema_version": 3,
     "solution": true,
     "task": false
    }
   },
   "outputs": [],
   "source": [
    "# YOUR CODE HERE\n",
    "raise NotImplementedError()"
   ]
  },
  {
   "cell_type": "code",
   "execution_count": null,
   "metadata": {
    "deletable": false,
    "editable": false,
    "hideCode": false,
    "hidePrompt": false,
    "nbgrader": {
     "cell_type": "code",
     "checksum": "ea2cc576ce3600830277734c32d6c206",
     "grade": true,
     "grade_id": "fire-count-function-tests",
     "locked": true,
     "points": 5,
     "schema_version": 3,
     "solution": false,
     "task": false
    }
   },
   "outputs": [],
   "source": [
    "# DO NOT MODIFY THIS CELL"
   ]
  },
  {
   "cell_type": "markdown",
   "metadata": {
    "deletable": false,
    "editable": false,
    "nbgrader": {
     "cell_type": "markdown",
     "checksum": "9bd9c15429d66a81cb4d171a8ee2ea47",
     "grade": false,
     "grade_id": "cell-075a074df0faef47",
     "locked": true,
     "schema_version": 3,
     "solution": false,
     "task": false
    }
   },
   "source": [
    "<img style=\"float: left;\" src=\"colored-bar.png\"/>"
   ]
  },
  {
   "cell_type": "markdown",
   "metadata": {
    "deletable": false,
    "editable": false,
    "hideCode": false,
    "hidePrompt": false,
    "nbgrader": {
     "cell_type": "markdown",
     "checksum": "c40db6d5520a4396d17c7aa3f0efdcac",
     "grade": false,
     "grade_id": "csv-function-in-workflow-instruction-2",
     "locked": true,
     "schema_version": 3,
     "solution": false,
     "task": false
    }
   },
   "source": [
    "## Function Challenge 2: Reuse Your Function\n",
    "\n",
    "One of the benefits of functions is being able to use them in multiple areas of your code. Repeat the exercise above, but with the data in the fire size directory.\n",
    "\n",
    "`earthpy-downloads/ca-fires-yearly/monthly-mean-size`\n",
    "\n",
    "Once again, you will:\n",
    "\n",
    "1. loop through each `.csv` file sorted by name.\n",
    "2. put the `.csv` file into your function and add the return from your function to a list. \n",
    "3. outside of the for loop, combine all of the files into a single DataFrame and set the year column to be an index. \n",
    "\n",
    "Call the new `DataFrame` object at the end of the cell."
   ]
  },
  {
   "cell_type": "code",
   "execution_count": null,
   "metadata": {
    "deletable": false,
    "hideCode": false,
    "hidePrompt": false,
    "nbgrader": {
     "cell_type": "code",
     "checksum": "8b7a377cbcaaa6d394f072fb0bbfc2e2",
     "grade": false,
     "grade_id": "import-csv-function-workflow-2",
     "locked": false,
     "schema_version": 3,
     "solution": true,
     "task": false
    }
   },
   "outputs": [],
   "source": [
    "# YOUR CODE HERE\n",
    "raise NotImplementedError()"
   ]
  },
  {
   "cell_type": "code",
   "execution_count": null,
   "metadata": {
    "deletable": false,
    "editable": false,
    "hideCode": false,
    "hidePrompt": false,
    "nbgrader": {
     "cell_type": "code",
     "checksum": "2ccfcf7a902a5a4e8b32a6a74d72e1f5",
     "grade": true,
     "grade_id": "fire_size_df_tests",
     "locked": true,
     "points": 5,
     "schema_version": 3,
     "solution": false,
     "task": false
    }
   },
   "outputs": [],
   "source": [
    "# DO NOT MODIFY THIS CELL"
   ]
  },
  {
   "cell_type": "markdown",
   "metadata": {
    "deletable": false,
    "editable": false,
    "nbgrader": {
     "cell_type": "markdown",
     "checksum": "381703a0ab142c3455df8bcc097e24ed",
     "grade": false,
     "grade_id": "cell-e4ed69372bed774c",
     "locked": true,
     "schema_version": 3,
     "solution": false,
     "task": false
    }
   },
   "source": [
    "<img style=\"float: left;\" src=\"colored-bar.png\"/>"
   ]
  },
  {
   "cell_type": "markdown",
   "metadata": {
    "deletable": false,
    "editable": false,
    "hideCode": false,
    "hidePrompt": false,
    "nbgrader": {
     "cell_type": "markdown",
     "checksum": "6fd60b60e3f627b11f33306631acbd3e",
     "grade": false,
     "grade_id": "loop-function-instructions",
     "locked": true,
     "schema_version": 3,
     "solution": false,
     "task": false
    }
   },
   "source": [
    "## Function Challenge 3: Create a Function The Loops Through A Directory Of .csv Files\n",
    "\n",
    "You may have noticed that a lot of the code that you use to loop through the directories \n",
    "and open `.csv` files is repeated. You can also make that entire loop workflow into a \n",
    "function that calls the function that you wrote above to open a `.csv` file. In the cell below create a function with the following properties.\n",
    "\n",
    "1. Parameters:\n",
    "    * The function takes in an unsorted list of `.csv` files (such as the output from a `glob` operation).\n",
    "    * The function also takes in a tuple of the index positions you expect the year data to be within the file path string. For example, in the path `folder/1996_data.csv` the tuple could either be (7, 11) or (-13, -9). \n",
    "2. Returns:\n",
    "    * The function should return a **Pandas** DataFrame that contains all of the data stored within that folder, and is indexed on the year column with the data you extracted from the file path. \n",
    "3. Other Requirements:\n",
    "    * The function should call your previous function to open up the individual `.csv` files inside the `for` loop. \n",
    "    * Your function needs a numpy-style docstring following the same format outlined above for your first function. "
   ]
  },
  {
   "cell_type": "code",
   "execution_count": null,
   "metadata": {
    "deletable": false,
    "hideCode": false,
    "hidePrompt": false,
    "nbgrader": {
     "cell_type": "code",
     "checksum": "2016d9a5408d3036348fac905f9a92eb",
     "grade": true,
     "grade_id": "student-loop-function",
     "locked": false,
     "points": 10,
     "schema_version": 3,
     "solution": true,
     "task": false
    }
   },
   "outputs": [],
   "source": [
    "def process_csv_files(file_path_list, year_index):\n",
    "    # YOUR CODE HERE\n",
    "    raise NotImplementedError()"
   ]
  },
  {
   "cell_type": "code",
   "execution_count": null,
   "metadata": {
    "deletable": false,
    "editable": false,
    "hideCode": false,
    "hidePrompt": false,
    "nbgrader": {
     "cell_type": "code",
     "checksum": "deff3798943d6e83c8096455e07e556c",
     "grade": true,
     "grade_id": "check-pocess-function-exists",
     "locked": true,
     "points": 10,
     "schema_version": 3,
     "solution": false,
     "task": false
    }
   },
   "outputs": [],
   "source": [
    "# DO NOT MODIFY THIS CELL\n",
    "process_function_points = 0\n",
    "process_works = True\n",
    "single_dir = os.path.join(\"earthpy-downloads\",\n",
    "                          \"ca-fires-yearly\",\n",
    "                          \"1992-2015-gt-100-acres\")\n",
    "\n",
    "two_files = sorted(glob(os.path.join(single_dir, \"*.csv\")))[0:2]\n",
    "two_files\n",
    "\n",
    "try:\n",
    "    out_df = process_csv_files(two_files, (-8, -4))\n",
    "    out_df.columns\n",
    "    process_works = True\n",
    "    print(\"\\u2705 Function 'process_csv_files' returns a dataframe!\")\n",
    "    process_function_points += 5\n",
    "    if len(out_df) == 424:\n",
    "        print(\"\\u2705 Great! It looks like your function combines csv files correctly!\")\n",
    "        process_function_points += 5\n",
    "    else:\n",
    "        print(\"\\u274C The function doesn't seem to combine csv files correctly.\")\n",
    "\n",
    "except:\n",
    "    print(\"\\u274C Oops! It looks like your function doesn't return a dataframe.\")\n",
    "\n",
    "print(\"\\n \\u27A1 You received {} out of 10 points for your function being defined properly. Please check that it also returns a year column.\".format(\n",
    "    process_function_points))\n",
    "process_function_points"
   ]
  },
  {
   "cell_type": "markdown",
   "metadata": {
    "deletable": false,
    "editable": false,
    "hideCode": false,
    "hidePrompt": false,
    "nbgrader": {
     "cell_type": "markdown",
     "checksum": "c90d9e80b56b953e1d03180509347b40",
     "grade": false,
     "grade_id": "call-help-on-loop-function",
     "locked": true,
     "schema_version": 3,
     "solution": false,
     "task": false
    }
   },
   "source": [
    "## Call Help on your Custom Function\n",
    "\n",
    "In the cell below, call help on your custom function to see what it returns."
   ]
  },
  {
   "cell_type": "code",
   "execution_count": null,
   "metadata": {
    "deletable": false,
    "hideCode": false,
    "hidePrompt": false,
    "nbgrader": {
     "cell_type": "code",
     "checksum": "9b66c016e9617e78713f29597a251afc",
     "grade": true,
     "grade_id": "student-loop-function-help",
     "locked": false,
     "points": 5,
     "schema_version": 3,
     "solution": true,
     "task": false
    }
   },
   "outputs": [],
   "source": [
    "# YOUR CODE HERE\n",
    "raise NotImplementedError()"
   ]
  },
  {
   "cell_type": "markdown",
   "metadata": {
    "deletable": false,
    "editable": false,
    "nbgrader": {
     "cell_type": "markdown",
     "checksum": "f93e889653c9cd9db24ab59fab8da4c6",
     "grade": false,
     "grade_id": "cell-abdce19447dcf087",
     "locked": true,
     "schema_version": 3,
     "solution": false,
     "task": false
    }
   },
   "source": [
    "<img style=\"float: left;\" src=\"colored-bar.png\"/>"
   ]
  },
  {
   "cell_type": "markdown",
   "metadata": {
    "deletable": false,
    "editable": false,
    "hideCode": false,
    "hidePrompt": false,
    "nbgrader": {
     "cell_type": "markdown",
     "checksum": "1f451c708aaad503d46916abbc085196",
     "grade": false,
     "grade_id": "loop-function-workflow-instructions",
     "locked": true,
     "schema_version": 3,
     "solution": false,
     "task": false
    }
   },
   "source": [
    "## Function Challenge 4: Create a DataFrame Using Your Function\n",
    "\n",
    "In the cell below, use `glob` to get all of the `.csv` files from \n",
    "\n",
    "`earthpy-downloads/ca-fires-yearly/1992-2015-gt-100-acres`\n",
    "\n",
    "Put your **unsorted** output from glob into your function and output the combined `DataFrame`.\n",
    "\n",
    "Call the output from your function the end of the cell."
   ]
  },
  {
   "cell_type": "code",
   "execution_count": null,
   "metadata": {
    "deletable": false,
    "hideCode": false,
    "hidePrompt": false,
    "nbgrader": {
     "cell_type": "code",
     "checksum": "70affa80b4074f3f5a1382f6abf6f625",
     "grade": false,
     "grade_id": "student-loop-function-workflow",
     "locked": false,
     "schema_version": 3,
     "solution": true,
     "task": false
    }
   },
   "outputs": [],
   "source": [
    "# YOUR CODE HERE\n",
    "raise NotImplementedError()"
   ]
  },
  {
   "cell_type": "code",
   "execution_count": null,
   "metadata": {
    "deletable": false,
    "editable": false,
    "hideCode": false,
    "hidePrompt": false,
    "nbgrader": {
     "cell_type": "code",
     "checksum": "0397dca385176abb151828ed7313d5ba",
     "grade": true,
     "grade_id": "fire-causes-tests",
     "locked": true,
     "points": 15,
     "schema_version": 3,
     "solution": false,
     "task": false
    }
   },
   "outputs": [],
   "source": [
    "# DO NOT MODIFY THIS CELL"
   ]
  },
  {
   "cell_type": "markdown",
   "metadata": {
    "deletable": false,
    "editable": false,
    "nbgrader": {
     "cell_type": "markdown",
     "checksum": "865d760350d9c2756dd714b0028cf59b",
     "grade": false,
     "grade_id": "cell-e6439dff691b8512",
     "locked": true,
     "schema_version": 3,
     "solution": false,
     "task": false
    }
   },
   "source": [
    "<img style=\"float: left;\" src=\"colored-bar.png\"/>"
   ]
  },
  {
   "cell_type": "markdown",
   "metadata": {
    "deletable": false,
    "editable": false,
    "hideCode": false,
    "hidePrompt": false,
    "nbgrader": {
     "cell_type": "markdown",
     "checksum": "0aa9262557e9f5157954e7dba67d15da",
     "grade": false,
     "grade_id": "download-data-2",
     "locked": true,
     "schema_version": 3,
     "solution": false,
     "task": false
    }
   },
   "source": [
    "## Function Challenge 5 - Loop Through Nested Directories \n",
    "\n",
    "In the next section of this assignment, you will implement functions \n",
    "using a set of nested directories. To begin, download the data needed \n",
    "from **this url: https://ndownloader.figshare.com/files/21894528** using earthpy\n",
    "in the cell below."
   ]
  },
  {
   "cell_type": "code",
   "execution_count": null,
   "metadata": {
    "deletable": false,
    "hideCode": false,
    "hidePrompt": false,
    "nbgrader": {
     "cell_type": "code",
     "checksum": "0a6b1342c5a286084cecf9224010c306",
     "grade": true,
     "grade_id": "student-download-data-2",
     "locked": false,
     "points": 0,
     "schema_version": 3,
     "solution": true,
     "task": false
    }
   },
   "outputs": [],
   "source": [
    "# YOUR CODE HERE\n",
    "raise NotImplementedError()"
   ]
  },
  {
   "cell_type": "markdown",
   "metadata": {
    "deletable": false,
    "editable": false,
    "hideCode": false,
    "hidePrompt": false,
    "nbgrader": {
     "cell_type": "markdown",
     "checksum": "b40f23d7f9c1a857d1692b3ae1e9911d",
     "grade": false,
     "grade_id": "nested-function-instructions",
     "locked": true,
     "schema_version": 3,
     "solution": false,
     "task": false
    }
   },
   "source": [
    "## Loop Through Nested Directories\n",
    "\n",
    "Sometimes you have a nested data directory structure that you need to process. \n",
    "\n",
    "The data you just downloaded contains a folder named `avg-monthly-temp-fahr` which \n",
    "holds two other folders, `San-Diego` and `Sonoma`. Those folders contain `.csv` \n",
    "files for each year from 1999 to 2003 that has the monthly maximum temperature for \n",
    "each location. \n",
    "\n",
    "Write a function that accepts the path to the parent folder, `avg-monthly-temp-fahr`, \n",
    "and creates a single **Pandas** DataFrame with all the data in both the `San-Diego` \n",
    "and `Sonoma` folders for monthly maximum temperature. The year and the location (Sonoma \n",
    "vs. San-Diego) should be added as new columns in the `DataFrame` using the year\n",
    "in the file name and the location in each directory.\n",
    "\n",
    "In the cell below create a function with the following properties.\n",
    "\n",
    "1. Parameters:\n",
    "    * The function takes in folder name to be looped through.\n",
    "    * The function also takes in a tuple of the index positions you expect the year data to be within the file path string. For example, in the path `folder/1996_data.csv` the tuple could either be (7, 11) or (-13, -9). \n",
    "2. Returns:\n",
    "    * The function should return a **Pandas** DataFrame that contains all of the data stored within that folder, and is indexed on the year column with the data you extracted from the file path. \n",
    "3. Other Requirements:\n",
    "    * The function should use the function that you created above (`process_csv_files()` takes in a list of files to open in a for loop. \n",
    "    * Your function needs a numpy-style docstring "
   ]
  },
  {
   "cell_type": "code",
   "execution_count": null,
   "metadata": {
    "deletable": false,
    "hideCode": false,
    "hidePrompt": false,
    "nbgrader": {
     "cell_type": "code",
     "checksum": "aebafec2f3251eaedd94fd88e7aec8b7",
     "grade": true,
     "grade_id": "student-nested-function",
     "locked": false,
     "points": 10,
     "schema_version": 3,
     "solution": true,
     "task": false
    }
   },
   "outputs": [],
   "source": [
    "def process_nested_csv_files(folder_name, year_index):\n",
    "    # YOUR CODE HERE\n",
    "    raise NotImplementedError()"
   ]
  },
  {
   "cell_type": "code",
   "execution_count": null,
   "metadata": {
    "deletable": false,
    "editable": false,
    "hideCode": false,
    "hidePrompt": false,
    "nbgrader": {
     "cell_type": "code",
     "checksum": "a8c2f06e076da064b323031f4dd014c0",
     "grade": true,
     "grade_id": "check-nested-function-exists",
     "locked": true,
     "points": 5,
     "schema_version": 3,
     "solution": false,
     "task": false
    }
   },
   "outputs": [],
   "source": [
    "# DO NOT MODIFY THIS CELL\n",
    "\n",
    "nested_function_points = 0\n",
    "nested_works = False\n",
    "\n",
    "a_dir = os.path.join(\n",
    "    \"earthpy-downloads\",\n",
    "    \"avg-monthly-temp-fahr\")\n",
    "\n",
    "try:\n",
    "    out_df_challenge_5 = process_nested_csv_files(a_dir, (-8,-4))\n",
    "    out_df_challenge_5.columns\n",
    "    nested_works = True\n",
    "    print(\"\\u2705 Great your function 'process_nested_csv_files' returns a dataframe!\")\n",
    "    nested_function_points += 5\n",
    "except NameError:\n",
    "    print(\"\\u274C Oops, make sure your function returns a dataframe or something else went wrong.\")\n",
    "\n",
    "print(\"\\n \\u27A1 You received {} out of 5 points for your function being defined properly.\".format(\n",
    "    nested_function_points))\n",
    "nested_function_points"
   ]
  },
  {
   "cell_type": "markdown",
   "metadata": {
    "deletable": false,
    "editable": false,
    "hideCode": false,
    "hidePrompt": false,
    "nbgrader": {
     "cell_type": "markdown",
     "checksum": "ecc03eac6cbfce8be738a7b83058e31a",
     "grade": false,
     "grade_id": "nested-function-help",
     "locked": true,
     "schema_version": 3,
     "solution": false,
     "task": false
    }
   },
   "source": [
    "## Call Help on your Custom Function\n",
    "\n",
    "In the cell below, call help on your custom function to see what it returns."
   ]
  },
  {
   "cell_type": "code",
   "execution_count": null,
   "metadata": {
    "deletable": false,
    "hideCode": false,
    "hidePrompt": false,
    "nbgrader": {
     "cell_type": "code",
     "checksum": "b404813bbd2116f709222bdca8a6420e",
     "grade": true,
     "grade_id": "student-nested-function-help",
     "locked": false,
     "points": 5,
     "schema_version": 3,
     "solution": true,
     "task": false
    }
   },
   "outputs": [],
   "source": [
    "# YOUR CODE HERE\n",
    "raise NotImplementedError()"
   ]
  },
  {
   "cell_type": "markdown",
   "metadata": {
    "deletable": false,
    "editable": false,
    "nbgrader": {
     "cell_type": "markdown",
     "checksum": "8c148bc154f3aed5410e0bc1cee12aa0",
     "grade": false,
     "grade_id": "cell-ae9b726aee543cbe",
     "locked": true,
     "schema_version": 3,
     "solution": false,
     "task": false
    }
   },
   "source": [
    "<img style=\"float: left;\" src=\"colored-bar.png\"/>"
   ]
  },
  {
   "cell_type": "markdown",
   "metadata": {
    "deletable": false,
    "editable": false,
    "hideCode": false,
    "hidePrompt": false,
    "nbgrader": {
     "cell_type": "markdown",
     "checksum": "acfe6c36e629540b1510fd3753c2c4c3",
     "grade": false,
     "grade_id": "nested-function-workflow",
     "locked": true,
     "schema_version": 3,
     "solution": false,
     "task": false
    }
   },
   "source": [
    "## Function Challenge 6: Create a Combined DataFrame with your Function\n",
    "\n",
    "Run your function on the `avg-monthly-temp-fahr` folder that was downloaded earlier. This should return a **pandas** DataFrame that has all the data from both folders in it, as well as the index set to the year and the location added as a new column to the DataFrame.\n",
    " \n",
    "Call the output from your function the end of the cell."
   ]
  },
  {
   "cell_type": "code",
   "execution_count": null,
   "metadata": {
    "deletable": false,
    "hideCode": false,
    "hidePrompt": false,
    "nbgrader": {
     "cell_type": "code",
     "checksum": "3c413c6c33a156b94d4cb5d1ddfdc2f4",
     "grade": false,
     "grade_id": "student-nested-function-workflow",
     "locked": false,
     "schema_version": 3,
     "solution": true,
     "task": false
    }
   },
   "outputs": [],
   "source": [
    "# YOUR CODE HERE\n",
    "raise NotImplementedError()"
   ]
  },
  {
   "cell_type": "code",
   "execution_count": null,
   "metadata": {
    "deletable": false,
    "editable": false,
    "hideCode": false,
    "hidePrompt": false,
    "nbgrader": {
     "cell_type": "code",
     "checksum": "f5c8996021c00cb1ba1dc0b811679297",
     "grade": true,
     "grade_id": "combined-data-tests",
     "locked": true,
     "points": 15,
     "schema_version": 3,
     "solution": false,
     "task": false
    }
   },
   "outputs": [],
   "source": [
    "# DO NOT MODIFY THIS CELL"
   ]
  },
  {
   "cell_type": "markdown",
   "metadata": {
    "deletable": false,
    "editable": false,
    "hideCode": false,
    "hidePrompt": false,
    "nbgrader": {
     "cell_type": "markdown",
     "checksum": "43d2c2a4f04c0c14a55bf461cd911965",
     "grade": false,
     "grade_id": "pep-spelling-tests",
     "locked": true,
     "points": 10,
     "schema_version": 3,
     "solution": false,
     "task": true
    }
   },
   "source": [
    "## Pep 8, Spelling and Does the Notebook Run?\n",
    "In this cell, we will give you points for the following\n",
    "\n",
    "1. PEP 8 is followed throughout the notebook (4 points)\n",
    "2. Spelling and grammar are considered in your written responses above (4 points)\n",
    "3. The notebook runs from top to bottom without any editing (it is reproducible) - 4 points"
   ]
  }
 ],
 "metadata": {
  "hide_code_all_hidden": false,
  "kernelspec": {
   "display_name": "Python 3",
   "language": "python",
   "name": "python3"
  },
  "language_info": {
   "codemirror_mode": {
    "name": "ipython",
    "version": 3
   },
   "file_extension": ".py",
   "mimetype": "text/x-python",
   "name": "python",
   "nbconvert_exporter": "python",
   "pygments_lexer": "ipython3",
   "version": "3.8.5"
  },
  "toc": {
   "base_numbering": 1,
   "nav_menu": {},
   "number_sections": true,
   "sideBar": true,
   "skip_h1_title": false,
   "title_cell": "Table of Contents",
   "title_sidebar": "Contents",
   "toc_cell": false,
   "toc_position": {},
   "toc_section_display": true,
   "toc_window_display": true
  }
 },
 "nbformat": 4,
 "nbformat_minor": 4
}
